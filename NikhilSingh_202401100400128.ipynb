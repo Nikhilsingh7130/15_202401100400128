{
  "cells": [
    {
      "cell_type": "code",
      "execution_count": 1,
      "metadata": {
        "colab": {
          "base_uri": "https://localhost:8080/",
          "height": 1000
        },
        "id": "65-5G7MON2jL",
        "outputId": "35a1ecfa-25fb-45eb-af81-391a56455cdc"
      },
      "outputs": [
        {
          "ename": "ModuleNotFoundError",
          "evalue": "No module named 'numpy'",
          "output_type": "error",
          "traceback": [
            "\u001b[1;31m---------------------------------------------------------------------------\u001b[0m",
            "\u001b[1;31mModuleNotFoundError\u001b[0m                       Traceback (most recent call last)",
            "Cell \u001b[1;32mIn[1], line 1\u001b[0m\n\u001b[1;32m----> 1\u001b[0m \u001b[38;5;28;01mimport\u001b[39;00m\u001b[38;5;250m \u001b[39m\u001b[38;5;21;01mnumpy\u001b[39;00m\u001b[38;5;250m \u001b[39m\u001b[38;5;28;01mas\u001b[39;00m\u001b[38;5;250m \u001b[39m\u001b[38;5;21;01mnp\u001b[39;00m\n\u001b[0;32m      2\u001b[0m \u001b[38;5;28;01mimport\u001b[39;00m\u001b[38;5;250m \u001b[39m\u001b[38;5;21;01mpandas\u001b[39;00m\u001b[38;5;250m \u001b[39m\u001b[38;5;28;01mas\u001b[39;00m\u001b[38;5;250m \u001b[39m\u001b[38;5;21;01mpd\u001b[39;00m\n\u001b[0;32m      3\u001b[0m \u001b[38;5;28;01mimport\u001b[39;00m\u001b[38;5;250m \u001b[39m\u001b[38;5;21;01mmatplotlib\u001b[39;00m\u001b[38;5;21;01m.\u001b[39;00m\u001b[38;5;21;01mpyplot\u001b[39;00m\u001b[38;5;250m \u001b[39m\u001b[38;5;28;01mas\u001b[39;00m\u001b[38;5;250m \u001b[39m\u001b[38;5;21;01mplt\u001b[39;00m\n",
            "\u001b[1;31mModuleNotFoundError\u001b[0m: No module named 'numpy'"
          ]
        }
      ],
      "source": [
        "\n",
        "import numpy as np\n",
        "import pandas as pd\n",
        "import matplotlib.pyplot as plt\n",
        "import seaborn as sns\n",
        "\n",
        "# Generate synthetic stock data\n",
        "def generate_stock_data(start_date, end_date, num_days):\n",
        "    date_range = pd.date_range(start=start_date, periods=num_days, freq='D')\n",
        "    np.random.seed(42)\n",
        "    prices = np.cumsum(np.random.normal(0, 2, num_days)) + 100  # Random walk with mean=100\n",
        "    stock_data = pd.DataFrame({'Date': date_range, 'Close': prices})\n",
        "    stock_data.set_index('Date', inplace=True)\n",
        "    return stock_data\n",
        "\n",
        "# Save dataset to CSV\n",
        "def save_dataset(stock_data, filename='stock_data.csv'):\n",
        "    stock_data.to_csv(filename)\n",
        "    print(f\"Dataset saved as {filename}\")\n",
        "\n",
        "# Plot stock price movement\n",
        "def plot_stock_price(stock_data):\n",
        "    plt.figure(figsize=(12, 6))\n",
        "    plt.plot(stock_data['Close'], label='Closing Price', color='blue')\n",
        "    plt.title('Synthetic Stock Price Movement')\n",
        "    plt.xlabel('Date')\n",
        "    plt.ylabel('Price (INR)')\n",
        "    plt.legend()\n",
        "    plt.grid()\n",
        "    plt.show()\n",
        "\n",
        "# Calculate moving averages\n",
        "def moving_averages(stock_data):\n",
        "    stock_data['SMA_20'] = stock_data['Close'].rolling(window=20).mean()\n",
        "    stock_data['SMA_50'] = stock_data['Close'].rolling(window=50).mean()\n",
        "\n",
        "    plt.figure(figsize=(12, 6))\n",
        "    plt.plot(stock_data['Close'], label='Closing Price', color='blue')\n",
        "    plt.plot(stock_data['SMA_20'], label='20-day SMA', color='red', linestyle='dashed')\n",
        "    plt.plot(stock_data['SMA_50'], label='50-day SMA', color='green', linestyle='dashed')\n",
        "    plt.title('Stock Price with Moving Averages')\n",
        "    plt.xlabel('Date')\n",
        "    plt.ylabel('Price (INR)')\n",
        "    plt.legend()\n",
        "    plt.grid()\n",
        "    plt.show()\n",
        "\n",
        "# Compute daily returns\n",
        "def daily_returns(stock_data):\n",
        "    stock_data['Daily Return'] = stock_data['Close'].pct_change()\n",
        "    plt.figure(figsize=(12, 6))\n",
        "    sns.histplot(stock_data['Daily Return'].dropna(), bins=50, kde=True, color='purple')\n",
        "    plt.title('Daily Return Distribution')\n",
        "    plt.xlabel('Daily Return')\n",
        "    plt.ylabel('Frequency')\n",
        "    plt.show()\n",
        "\n",
        "# Main Execution\n",
        "start_date = '2023-01-01'\n",
        "end_date = '2024-01-01'\n",
        "num_days = 365\n",
        "\n",
        "stock_data = generate_stock_data(start_date, end_date, num_days)\n",
        "save_dataset(stock_data)\n",
        "plot_stock_price(stock_data)\n",
        "moving_averages(stock_data)\n",
        "daily_returns(stock_data)\n"
      ]
    }
  ],
  "metadata": {
    "colab": {
      "provenance": []
    },
    "kernelspec": {
      "display_name": "Python 3",
      "name": "python3"
    },
    "language_info": {
      "codemirror_mode": {
        "name": "ipython",
        "version": 3
      },
      "file_extension": ".py",
      "mimetype": "text/x-python",
      "name": "python",
      "nbconvert_exporter": "python",
      "pygments_lexer": "ipython3",
      "version": "3.13.2"
    }
  },
  "nbformat": 4,
  "nbformat_minor": 0
}
